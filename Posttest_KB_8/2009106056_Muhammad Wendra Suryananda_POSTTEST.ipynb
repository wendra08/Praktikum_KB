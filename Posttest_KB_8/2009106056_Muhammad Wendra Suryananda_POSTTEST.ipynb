{
 "cells": [
  {
   "cell_type": "code",
   "execution_count": 2,
   "metadata": {},
   "outputs": [],
   "source": [
    "import tensorflow as tf\n",
    "import numpy as np\n",
    "import matplotlib.pyplot as plt\n",
    "from sklearn.datasets import load_wine\n",
    "from sklearn.model_selection import train_test_split\n",
    "from sklearn.preprocessing import StandardScaler\n",
    "from tensorflow.keras.utils import to_categorical"
   ]
  },
  {
   "cell_type": "markdown",
   "metadata": {},
   "source": [
    "Proses Load data"
   ]
  },
  {
   "cell_type": "code",
   "execution_count": 3,
   "metadata": {},
   "outputs": [],
   "source": [
    "wine = load_wine(as_frame=True)"
   ]
  },
  {
   "cell_type": "markdown",
   "metadata": {},
   "source": [
    "Melihat isi dari data wine"
   ]
  },
  {
   "cell_type": "code",
   "execution_count": 4,
   "metadata": {},
   "outputs": [],
   "source": [
    "x = wine.data #Feature\n",
    "y = wine.target #Target"
   ]
  },
  {
   "cell_type": "code",
   "execution_count": 5,
   "metadata": {},
   "outputs": [
    {
     "data": {
      "text/html": [
       "<div>\n",
       "<style scoped>\n",
       "    .dataframe tbody tr th:only-of-type {\n",
       "        vertical-align: middle;\n",
       "    }\n",
       "\n",
       "    .dataframe tbody tr th {\n",
       "        vertical-align: top;\n",
       "    }\n",
       "\n",
       "    .dataframe thead th {\n",
       "        text-align: right;\n",
       "    }\n",
       "</style>\n",
       "<table border=\"1\" class=\"dataframe\">\n",
       "  <thead>\n",
       "    <tr style=\"text-align: right;\">\n",
       "      <th></th>\n",
       "      <th>alcohol</th>\n",
       "      <th>malic_acid</th>\n",
       "      <th>ash</th>\n",
       "      <th>alcalinity_of_ash</th>\n",
       "      <th>magnesium</th>\n",
       "      <th>total_phenols</th>\n",
       "      <th>flavanoids</th>\n",
       "      <th>nonflavanoid_phenols</th>\n",
       "      <th>proanthocyanins</th>\n",
       "      <th>color_intensity</th>\n",
       "      <th>hue</th>\n",
       "      <th>od280/od315_of_diluted_wines</th>\n",
       "      <th>proline</th>\n",
       "    </tr>\n",
       "  </thead>\n",
       "  <tbody>\n",
       "    <tr>\n",
       "      <th>0</th>\n",
       "      <td>14.23</td>\n",
       "      <td>1.71</td>\n",
       "      <td>2.43</td>\n",
       "      <td>15.6</td>\n",
       "      <td>127.0</td>\n",
       "      <td>2.80</td>\n",
       "      <td>3.06</td>\n",
       "      <td>0.28</td>\n",
       "      <td>2.29</td>\n",
       "      <td>5.64</td>\n",
       "      <td>1.04</td>\n",
       "      <td>3.92</td>\n",
       "      <td>1065.0</td>\n",
       "    </tr>\n",
       "    <tr>\n",
       "      <th>1</th>\n",
       "      <td>13.20</td>\n",
       "      <td>1.78</td>\n",
       "      <td>2.14</td>\n",
       "      <td>11.2</td>\n",
       "      <td>100.0</td>\n",
       "      <td>2.65</td>\n",
       "      <td>2.76</td>\n",
       "      <td>0.26</td>\n",
       "      <td>1.28</td>\n",
       "      <td>4.38</td>\n",
       "      <td>1.05</td>\n",
       "      <td>3.40</td>\n",
       "      <td>1050.0</td>\n",
       "    </tr>\n",
       "    <tr>\n",
       "      <th>2</th>\n",
       "      <td>13.16</td>\n",
       "      <td>2.36</td>\n",
       "      <td>2.67</td>\n",
       "      <td>18.6</td>\n",
       "      <td>101.0</td>\n",
       "      <td>2.80</td>\n",
       "      <td>3.24</td>\n",
       "      <td>0.30</td>\n",
       "      <td>2.81</td>\n",
       "      <td>5.68</td>\n",
       "      <td>1.03</td>\n",
       "      <td>3.17</td>\n",
       "      <td>1185.0</td>\n",
       "    </tr>\n",
       "    <tr>\n",
       "      <th>3</th>\n",
       "      <td>14.37</td>\n",
       "      <td>1.95</td>\n",
       "      <td>2.50</td>\n",
       "      <td>16.8</td>\n",
       "      <td>113.0</td>\n",
       "      <td>3.85</td>\n",
       "      <td>3.49</td>\n",
       "      <td>0.24</td>\n",
       "      <td>2.18</td>\n",
       "      <td>7.80</td>\n",
       "      <td>0.86</td>\n",
       "      <td>3.45</td>\n",
       "      <td>1480.0</td>\n",
       "    </tr>\n",
       "    <tr>\n",
       "      <th>4</th>\n",
       "      <td>13.24</td>\n",
       "      <td>2.59</td>\n",
       "      <td>2.87</td>\n",
       "      <td>21.0</td>\n",
       "      <td>118.0</td>\n",
       "      <td>2.80</td>\n",
       "      <td>2.69</td>\n",
       "      <td>0.39</td>\n",
       "      <td>1.82</td>\n",
       "      <td>4.32</td>\n",
       "      <td>1.04</td>\n",
       "      <td>2.93</td>\n",
       "      <td>735.0</td>\n",
       "    </tr>\n",
       "  </tbody>\n",
       "</table>\n",
       "</div>"
      ],
      "text/plain": [
       "   alcohol  malic_acid   ash  alcalinity_of_ash  magnesium  total_phenols  \\\n",
       "0    14.23        1.71  2.43               15.6      127.0           2.80   \n",
       "1    13.20        1.78  2.14               11.2      100.0           2.65   \n",
       "2    13.16        2.36  2.67               18.6      101.0           2.80   \n",
       "3    14.37        1.95  2.50               16.8      113.0           3.85   \n",
       "4    13.24        2.59  2.87               21.0      118.0           2.80   \n",
       "\n",
       "   flavanoids  nonflavanoid_phenols  proanthocyanins  color_intensity   hue  \\\n",
       "0        3.06                  0.28             2.29             5.64  1.04   \n",
       "1        2.76                  0.26             1.28             4.38  1.05   \n",
       "2        3.24                  0.30             2.81             5.68  1.03   \n",
       "3        3.49                  0.24             2.18             7.80  0.86   \n",
       "4        2.69                  0.39             1.82             4.32  1.04   \n",
       "\n",
       "   od280/od315_of_diluted_wines  proline  \n",
       "0                          3.92   1065.0  \n",
       "1                          3.40   1050.0  \n",
       "2                          3.17   1185.0  \n",
       "3                          3.45   1480.0  \n",
       "4                          2.93    735.0  "
      ]
     },
     "execution_count": 5,
     "metadata": {},
     "output_type": "execute_result"
    }
   ],
   "source": [
    "x.head()"
   ]
  },
  {
   "cell_type": "code",
   "execution_count": 6,
   "metadata": {},
   "outputs": [
    {
     "data": {
      "text/plain": [
       "array([0, 1, 2])"
      ]
     },
     "execution_count": 6,
     "metadata": {},
     "output_type": "execute_result"
    }
   ],
   "source": [
    "y.unique()"
   ]
  },
  {
   "cell_type": "code",
   "execution_count": 7,
   "metadata": {},
   "outputs": [
    {
     "data": {
      "text/plain": [
       "0    0\n",
       "1    0\n",
       "2    0\n",
       "3    0\n",
       "4    0\n",
       "Name: target, dtype: int32"
      ]
     },
     "execution_count": 7,
     "metadata": {},
     "output_type": "execute_result"
    }
   ],
   "source": [
    "y.head()"
   ]
  },
  {
   "cell_type": "markdown",
   "metadata": {},
   "source": [
    "Cek Kolom"
   ]
  },
  {
   "cell_type": "code",
   "execution_count": 8,
   "metadata": {},
   "outputs": [
    {
     "name": "stdout",
     "output_type": "stream",
     "text": [
      "<class 'pandas.core.frame.DataFrame'>\n",
      "RangeIndex: 178 entries, 0 to 177\n",
      "Data columns (total 13 columns):\n",
      " #   Column                        Non-Null Count  Dtype  \n",
      "---  ------                        --------------  -----  \n",
      " 0   alcohol                       178 non-null    float64\n",
      " 1   malic_acid                    178 non-null    float64\n",
      " 2   ash                           178 non-null    float64\n",
      " 3   alcalinity_of_ash             178 non-null    float64\n",
      " 4   magnesium                     178 non-null    float64\n",
      " 5   total_phenols                 178 non-null    float64\n",
      " 6   flavanoids                    178 non-null    float64\n",
      " 7   nonflavanoid_phenols          178 non-null    float64\n",
      " 8   proanthocyanins               178 non-null    float64\n",
      " 9   color_intensity               178 non-null    float64\n",
      " 10  hue                           178 non-null    float64\n",
      " 11  od280/od315_of_diluted_wines  178 non-null    float64\n",
      " 12  proline                       178 non-null    float64\n",
      "dtypes: float64(13)\n",
      "memory usage: 18.2 KB\n"
     ]
    }
   ],
   "source": [
    "x.info()"
   ]
  },
  {
   "cell_type": "markdown",
   "metadata": {},
   "source": [
    "Split Data"
   ]
  },
  {
   "cell_type": "code",
   "execution_count": 9,
   "metadata": {},
   "outputs": [],
   "source": [
    "x_train, x_test, y_train, y_test = train_test_split(x, y, test_size=0.2)"
   ]
  },
  {
   "cell_type": "markdown",
   "metadata": {},
   "source": [
    "Untuk melihat dimensi dari train dan test"
   ]
  },
  {
   "cell_type": "code",
   "execution_count": 10,
   "metadata": {},
   "outputs": [
    {
     "name": "stdout",
     "output_type": "stream",
     "text": [
      "panjang x train : 142\n",
      " panjang y train : 142\n",
      " panjang x test : 36\n",
      " panjang y test : 36\n",
      "\n"
     ]
    }
   ],
   "source": [
    "print(f'panjang x train : {len(x_train)}\\n',\n",
    "f'panjang y train : {len(y_train)}\\n',\n",
    "f'panjang x test : {len(x_test)}\\n',\n",
    "f'panjang y test : {len(y_test)}\\n')"
   ]
  },
  {
   "cell_type": "markdown",
   "metadata": {},
   "source": [
    "Data Standarisasi"
   ]
  },
  {
   "cell_type": "code",
   "execution_count": 11,
   "metadata": {},
   "outputs": [],
   "source": [
    "ss = StandardScaler()"
   ]
  },
  {
   "cell_type": "code",
   "execution_count": 12,
   "metadata": {},
   "outputs": [],
   "source": [
    "x_scaled_train = ss.fit_transform(x_train)\n",
    "x_scaled_test = ss.fit_transform(x_test)"
   ]
  },
  {
   "cell_type": "code",
   "execution_count": 13,
   "metadata": {},
   "outputs": [],
   "source": [
    "y_train = to_categorical(y_train, 3)\n",
    "y_test = to_categorical(y_test, 3)"
   ]
  },
  {
   "cell_type": "markdown",
   "metadata": {},
   "source": [
    "Membuat Model"
   ]
  },
  {
   "cell_type": "code",
   "execution_count": 14,
   "metadata": {},
   "outputs": [
    {
     "name": "stdout",
     "output_type": "stream",
     "text": [
      "Model: \"sequential\"\n",
      "_________________________________________________________________\n",
      " Layer (type)                Output Shape              Param #   \n",
      "=================================================================\n",
      " dense (Dense)               (None, 50)                700       \n",
      "                                                                 \n",
      " dense_1 (Dense)             (None, 50)                2550      \n",
      "                                                                 \n",
      " dense_2 (Dense)             (None, 3)                 153       \n",
      "                                                                 \n",
      "=================================================================\n",
      "Total params: 3,403\n",
      "Trainable params: 3,403\n",
      "Non-trainable params: 0\n",
      "_________________________________________________________________\n"
     ]
    }
   ],
   "source": [
    "from tensorflow.keras import Sequential\n",
    "from tensorflow.keras.layers import Dense\n",
    "\n",
    "model = Sequential()\n",
    "\n",
    "#Input Layer\n",
    "model.add(Dense(50, activation='relu', input_dim=13))\n",
    "\n",
    "#Hidden Layer\n",
    "model.add(Dense(50, activation='relu'))\n",
    "\n",
    "#Output Layer\n",
    "model.add(Dense(3, activation='softmax')) #output layer harus disamakan dengan jumlah class, semakin banyak jumlah neuron semakin kompleks modelnya jadi bisa overfitting\n",
    "\n",
    "model.summary()"
   ]
  },
  {
   "cell_type": "markdown",
   "metadata": {},
   "source": [
    "Import library"
   ]
  },
  {
   "cell_type": "code",
   "execution_count": 15,
   "metadata": {},
   "outputs": [],
   "source": [
    "from tensorflow.keras.utils import to_categorical\n",
    "from tensorflow.keras.optimizers import Adam\n",
    "from tensorflow.keras.losses import categorical_crossentropy\n"
   ]
  },
  {
   "cell_type": "markdown",
   "metadata": {},
   "source": [
    "Mengoptimasi model"
   ]
  },
  {
   "cell_type": "code",
   "execution_count": 16,
   "metadata": {},
   "outputs": [],
   "source": [
    "model.compile(\n",
    "    optimizer=Adam(),\n",
    "    loss = categorical_crossentropy,\n",
    "    metrics = ['accuracy']\n",
    ")"
   ]
  },
  {
   "cell_type": "code",
   "execution_count": 17,
   "metadata": {},
   "outputs": [],
   "source": [
    "# Import the early stopping callback\n",
    "from tensorflow.keras.callbacks import EarlyStopping\n",
    "\n",
    "# Define a callback to monitor val_accuracy\n",
    "monitor_val_acc = EarlyStopping(monitor='accuracy', #dilihat berdasarkan validasi accuracy atau accuracy saja, tetapi monitor hanya bisa memasukkan 1 saja\n",
    "                                patience=20)#jadi jika di 20 epoch selanjutnya itu tidak berubah maka diberentikan\n"
   ]
  },
  {
   "cell_type": "code",
   "execution_count": 18,
   "metadata": {},
   "outputs": [
    {
     "name": "stdout",
     "output_type": "stream",
     "text": [
      "Epoch 1/120\n",
      "5/5 [==============================] - 1s 100ms/step - loss: 54.9297 - accuracy: 0.3169 - val_loss: 8.3254 - val_accuracy: 0.3889\n",
      "Epoch 2/120\n",
      "5/5 [==============================] - 0s 15ms/step - loss: 14.7540 - accuracy: 0.3873 - val_loss: 23.6688 - val_accuracy: 0.4722\n",
      "Epoch 3/120\n",
      "5/5 [==============================] - 0s 12ms/step - loss: 19.7401 - accuracy: 0.3521 - val_loss: 7.3795 - val_accuracy: 0.4167\n",
      "Epoch 4/120\n",
      "5/5 [==============================] - 0s 12ms/step - loss: 5.0670 - accuracy: 0.4859 - val_loss: 4.7735 - val_accuracy: 0.6111\n",
      "Epoch 5/120\n",
      "5/5 [==============================] - 0s 12ms/step - loss: 7.5098 - accuracy: 0.5634 - val_loss: 2.1060 - val_accuracy: 0.8056\n",
      "Epoch 6/120\n",
      "5/5 [==============================] - 0s 14ms/step - loss: 3.4602 - accuracy: 0.5423 - val_loss: 3.5414 - val_accuracy: 0.3056\n",
      "Epoch 7/120\n",
      "5/5 [==============================] - 0s 13ms/step - loss: 3.6881 - accuracy: 0.4155 - val_loss: 1.1018 - val_accuracy: 0.7500\n",
      "Epoch 8/120\n",
      "5/5 [==============================] - 0s 11ms/step - loss: 2.0022 - accuracy: 0.4648 - val_loss: 0.9297 - val_accuracy: 0.7778\n",
      "Epoch 9/120\n",
      "5/5 [==============================] - 0s 12ms/step - loss: 1.7362 - accuracy: 0.5775 - val_loss: 1.5946 - val_accuracy: 0.5556\n",
      "Epoch 10/120\n",
      "5/5 [==============================] - 0s 16ms/step - loss: 1.2715 - accuracy: 0.6620 - val_loss: 0.8286 - val_accuracy: 0.6944\n",
      "Epoch 11/120\n",
      "5/5 [==============================] - 0s 21ms/step - loss: 1.0687 - accuracy: 0.6620 - val_loss: 0.8216 - val_accuracy: 0.8056\n",
      "Epoch 12/120\n",
      "5/5 [==============================] - 0s 15ms/step - loss: 0.9012 - accuracy: 0.7183 - val_loss: 1.1409 - val_accuracy: 0.5556\n",
      "Epoch 13/120\n",
      "5/5 [==============================] - 0s 12ms/step - loss: 0.9635 - accuracy: 0.6761 - val_loss: 0.5930 - val_accuracy: 0.8333\n",
      "Epoch 14/120\n",
      "5/5 [==============================] - 0s 12ms/step - loss: 0.7735 - accuracy: 0.6761 - val_loss: 0.8662 - val_accuracy: 0.6667\n",
      "Epoch 15/120\n",
      "5/5 [==============================] - 0s 13ms/step - loss: 0.7608 - accuracy: 0.6901 - val_loss: 0.5545 - val_accuracy: 0.8611\n",
      "Epoch 16/120\n",
      "5/5 [==============================] - 0s 13ms/step - loss: 0.7053 - accuracy: 0.7183 - val_loss: 0.5277 - val_accuracy: 0.8056\n",
      "Epoch 17/120\n",
      "5/5 [==============================] - 0s 13ms/step - loss: 0.6034 - accuracy: 0.7394 - val_loss: 0.4233 - val_accuracy: 0.8611\n",
      "Epoch 18/120\n",
      "5/5 [==============================] - 0s 9ms/step - loss: 0.7705 - accuracy: 0.6620 - val_loss: 0.3423 - val_accuracy: 0.8611\n",
      "Epoch 19/120\n",
      "5/5 [==============================] - 0s 11ms/step - loss: 0.8289 - accuracy: 0.6620 - val_loss: 0.6946 - val_accuracy: 0.7500\n",
      "Epoch 20/120\n",
      "5/5 [==============================] - 0s 10ms/step - loss: 0.7173 - accuracy: 0.7254 - val_loss: 0.4026 - val_accuracy: 0.8611\n",
      "Epoch 21/120\n",
      "5/5 [==============================] - 0s 8ms/step - loss: 0.6779 - accuracy: 0.7113 - val_loss: 0.3891 - val_accuracy: 0.8333\n",
      "Epoch 22/120\n",
      "5/5 [==============================] - 0s 9ms/step - loss: 0.5987 - accuracy: 0.7324 - val_loss: 0.3221 - val_accuracy: 0.8611\n",
      "Epoch 23/120\n",
      "5/5 [==============================] - 0s 10ms/step - loss: 0.4679 - accuracy: 0.8028 - val_loss: 0.3026 - val_accuracy: 0.8889\n",
      "Epoch 24/120\n",
      "5/5 [==============================] - 0s 10ms/step - loss: 0.5618 - accuracy: 0.7887 - val_loss: 0.3079 - val_accuracy: 0.9167\n",
      "Epoch 25/120\n",
      "5/5 [==============================] - 0s 10ms/step - loss: 0.4899 - accuracy: 0.8099 - val_loss: 0.3908 - val_accuracy: 0.8889\n",
      "Epoch 26/120\n",
      "5/5 [==============================] - 0s 11ms/step - loss: 0.3767 - accuracy: 0.8662 - val_loss: 0.3699 - val_accuracy: 0.8889\n",
      "Epoch 27/120\n",
      "5/5 [==============================] - 0s 10ms/step - loss: 0.3707 - accuracy: 0.8944 - val_loss: 0.2881 - val_accuracy: 0.8889\n",
      "Epoch 28/120\n",
      "5/5 [==============================] - 0s 10ms/step - loss: 0.3783 - accuracy: 0.8451 - val_loss: 0.2923 - val_accuracy: 0.8889\n",
      "Epoch 29/120\n",
      "5/5 [==============================] - 0s 10ms/step - loss: 0.4094 - accuracy: 0.8239 - val_loss: 0.2780 - val_accuracy: 0.8611\n",
      "Epoch 30/120\n",
      "5/5 [==============================] - 0s 10ms/step - loss: 0.4082 - accuracy: 0.8451 - val_loss: 0.2831 - val_accuracy: 0.9167\n",
      "Epoch 31/120\n",
      "5/5 [==============================] - 0s 47ms/step - loss: 0.3841 - accuracy: 0.8451 - val_loss: 0.4095 - val_accuracy: 0.8889\n",
      "Epoch 32/120\n",
      "5/5 [==============================] - 0s 10ms/step - loss: 0.4171 - accuracy: 0.8451 - val_loss: 0.2864 - val_accuracy: 0.9444\n",
      "Epoch 33/120\n",
      "5/5 [==============================] - 0s 10ms/step - loss: 0.3998 - accuracy: 0.8732 - val_loss: 0.2961 - val_accuracy: 0.9167\n",
      "Epoch 34/120\n",
      "5/5 [==============================] - 0s 10ms/step - loss: 0.4306 - accuracy: 0.8732 - val_loss: 0.2962 - val_accuracy: 0.9167\n",
      "Epoch 35/120\n",
      "5/5 [==============================] - 0s 10ms/step - loss: 0.4271 - accuracy: 0.8099 - val_loss: 0.2911 - val_accuracy: 0.9167\n",
      "Epoch 36/120\n",
      "5/5 [==============================] - 0s 10ms/step - loss: 0.4622 - accuracy: 0.9014 - val_loss: 0.3817 - val_accuracy: 0.8889\n",
      "Epoch 37/120\n",
      "5/5 [==============================] - 0s 9ms/step - loss: 0.4127 - accuracy: 0.7887 - val_loss: 0.5517 - val_accuracy: 0.6667\n",
      "Epoch 38/120\n",
      "5/5 [==============================] - 0s 10ms/step - loss: 0.4683 - accuracy: 0.8169 - val_loss: 0.2789 - val_accuracy: 0.9444\n",
      "Epoch 39/120\n",
      "5/5 [==============================] - 0s 10ms/step - loss: 0.3197 - accuracy: 0.9014 - val_loss: 0.2390 - val_accuracy: 0.8889\n",
      "Epoch 40/120\n",
      "5/5 [==============================] - 0s 9ms/step - loss: 0.3407 - accuracy: 0.8732 - val_loss: 0.2347 - val_accuracy: 0.8611\n",
      "Epoch 41/120\n",
      "5/5 [==============================] - 0s 10ms/step - loss: 0.3245 - accuracy: 0.8732 - val_loss: 0.2634 - val_accuracy: 0.9444\n",
      "Epoch 42/120\n",
      "5/5 [==============================] - 0s 10ms/step - loss: 0.3402 - accuracy: 0.8873 - val_loss: 0.2754 - val_accuracy: 0.9167\n",
      "Epoch 43/120\n",
      "5/5 [==============================] - 0s 10ms/step - loss: 0.3573 - accuracy: 0.8944 - val_loss: 0.2291 - val_accuracy: 0.9167\n",
      "Epoch 44/120\n",
      "5/5 [==============================] - 0s 10ms/step - loss: 0.3552 - accuracy: 0.9014 - val_loss: 0.3103 - val_accuracy: 0.8889\n",
      "Epoch 45/120\n",
      "5/5 [==============================] - 0s 10ms/step - loss: 0.3911 - accuracy: 0.8310 - val_loss: 0.7219 - val_accuracy: 0.6389\n",
      "Epoch 46/120\n",
      "5/5 [==============================] - 0s 10ms/step - loss: 0.5044 - accuracy: 0.7887 - val_loss: 0.5079 - val_accuracy: 0.7500\n",
      "Epoch 47/120\n",
      "5/5 [==============================] - 0s 10ms/step - loss: 0.3465 - accuracy: 0.8592 - val_loss: 0.2693 - val_accuracy: 0.9167\n",
      "Epoch 48/120\n",
      "5/5 [==============================] - 0s 10ms/step - loss: 0.3353 - accuracy: 0.8732 - val_loss: 0.2258 - val_accuracy: 0.9444\n",
      "Epoch 49/120\n",
      "5/5 [==============================] - 0s 10ms/step - loss: 0.3695 - accuracy: 0.8592 - val_loss: 0.2107 - val_accuracy: 0.8889\n",
      "Epoch 50/120\n",
      "5/5 [==============================] - 0s 10ms/step - loss: 0.3115 - accuracy: 0.8944 - val_loss: 0.2194 - val_accuracy: 0.9444\n",
      "Epoch 51/120\n",
      "5/5 [==============================] - 0s 10ms/step - loss: 0.3226 - accuracy: 0.9155 - val_loss: 0.3463 - val_accuracy: 0.8889\n",
      "Epoch 52/120\n",
      "5/5 [==============================] - 0s 10ms/step - loss: 0.3204 - accuracy: 0.8803 - val_loss: 0.2889 - val_accuracy: 0.9444\n",
      "Epoch 53/120\n",
      "5/5 [==============================] - 0s 10ms/step - loss: 0.3431 - accuracy: 0.9014 - val_loss: 0.2965 - val_accuracy: 0.9167\n",
      "Epoch 54/120\n",
      "5/5 [==============================] - 0s 10ms/step - loss: 0.3138 - accuracy: 0.8521 - val_loss: 0.6754 - val_accuracy: 0.7222\n",
      "Epoch 55/120\n",
      "5/5 [==============================] - 0s 10ms/step - loss: 0.3823 - accuracy: 0.8662 - val_loss: 0.5792 - val_accuracy: 0.8889\n",
      "Epoch 56/120\n",
      "5/5 [==============================] - 0s 10ms/step - loss: 0.4041 - accuracy: 0.8028 - val_loss: 0.4710 - val_accuracy: 0.8056\n",
      "Epoch 57/120\n",
      "5/5 [==============================] - 0s 11ms/step - loss: 0.3321 - accuracy: 0.8732 - val_loss: 0.4604 - val_accuracy: 0.8889\n",
      "Epoch 58/120\n",
      "5/5 [==============================] - 0s 10ms/step - loss: 0.4236 - accuracy: 0.7958 - val_loss: 0.7772 - val_accuracy: 0.6111\n",
      "Epoch 59/120\n",
      "5/5 [==============================] - 0s 10ms/step - loss: 0.5078 - accuracy: 0.7958 - val_loss: 0.2847 - val_accuracy: 0.8889\n",
      "Epoch 60/120\n",
      "5/5 [==============================] - 0s 10ms/step - loss: 0.3202 - accuracy: 0.8944 - val_loss: 0.2885 - val_accuracy: 0.9167\n",
      "Epoch 61/120\n",
      "5/5 [==============================] - 0s 10ms/step - loss: 0.2712 - accuracy: 0.9225 - val_loss: 0.2312 - val_accuracy: 0.9167\n",
      "Epoch 62/120\n",
      "5/5 [==============================] - 0s 10ms/step - loss: 0.2564 - accuracy: 0.9296 - val_loss: 0.2686 - val_accuracy: 0.8889\n",
      "Epoch 63/120\n",
      "5/5 [==============================] - 0s 9ms/step - loss: 0.2452 - accuracy: 0.9296 - val_loss: 0.2742 - val_accuracy: 0.9167\n",
      "Epoch 64/120\n",
      "5/5 [==============================] - 0s 10ms/step - loss: 0.2808 - accuracy: 0.9296 - val_loss: 0.2176 - val_accuracy: 0.9722\n",
      "Epoch 65/120\n",
      "5/5 [==============================] - 0s 10ms/step - loss: 0.2389 - accuracy: 0.9366 - val_loss: 0.1997 - val_accuracy: 0.9444\n",
      "Epoch 66/120\n",
      "5/5 [==============================] - 0s 10ms/step - loss: 0.2406 - accuracy: 0.9507 - val_loss: 0.1847 - val_accuracy: 0.9167\n",
      "Epoch 67/120\n",
      "5/5 [==============================] - 0s 9ms/step - loss: 0.2455 - accuracy: 0.9366 - val_loss: 0.2246 - val_accuracy: 0.9444\n",
      "Epoch 68/120\n",
      "5/5 [==============================] - 0s 10ms/step - loss: 0.2686 - accuracy: 0.9225 - val_loss: 0.1834 - val_accuracy: 0.9444\n",
      "Epoch 69/120\n",
      "5/5 [==============================] - 0s 10ms/step - loss: 0.2218 - accuracy: 0.9577 - val_loss: 0.1801 - val_accuracy: 0.9167\n",
      "Epoch 70/120\n",
      "5/5 [==============================] - 0s 9ms/step - loss: 0.2411 - accuracy: 0.9366 - val_loss: 0.1805 - val_accuracy: 0.9167\n",
      "Epoch 71/120\n",
      "5/5 [==============================] - 0s 11ms/step - loss: 0.4238 - accuracy: 0.8239 - val_loss: 0.3206 - val_accuracy: 0.8889\n",
      "Epoch 72/120\n",
      "5/5 [==============================] - 0s 10ms/step - loss: 0.2863 - accuracy: 0.9296 - val_loss: 0.2089 - val_accuracy: 0.9444\n",
      "Epoch 73/120\n",
      "5/5 [==============================] - 0s 12ms/step - loss: 0.2620 - accuracy: 0.9014 - val_loss: 0.2934 - val_accuracy: 0.9167\n",
      "Epoch 74/120\n",
      "5/5 [==============================] - 0s 10ms/step - loss: 0.2722 - accuracy: 0.9225 - val_loss: 0.2828 - val_accuracy: 0.9167\n",
      "Epoch 75/120\n",
      "5/5 [==============================] - 0s 9ms/step - loss: 0.3065 - accuracy: 0.8662 - val_loss: 0.2477 - val_accuracy: 0.8889\n",
      "Epoch 76/120\n",
      "5/5 [==============================] - 0s 10ms/step - loss: 0.4526 - accuracy: 0.7958 - val_loss: 0.5064 - val_accuracy: 0.8611\n",
      "Epoch 77/120\n",
      "5/5 [==============================] - 0s 10ms/step - loss: 0.4199 - accuracy: 0.8662 - val_loss: 0.2343 - val_accuracy: 0.9444\n",
      "Epoch 78/120\n",
      "5/5 [==============================] - 0s 10ms/step - loss: 0.3715 - accuracy: 0.8380 - val_loss: 0.1661 - val_accuracy: 0.9167\n",
      "Epoch 79/120\n",
      "5/5 [==============================] - 0s 10ms/step - loss: 0.3861 - accuracy: 0.8451 - val_loss: 0.3140 - val_accuracy: 0.8889\n",
      "Epoch 80/120\n",
      "5/5 [==============================] - 0s 9ms/step - loss: 0.3407 - accuracy: 0.9014 - val_loss: 0.2001 - val_accuracy: 0.9444\n",
      "Epoch 81/120\n",
      "5/5 [==============================] - 0s 10ms/step - loss: 0.3177 - accuracy: 0.8521 - val_loss: 0.4289 - val_accuracy: 0.8611\n",
      "Epoch 82/120\n",
      "5/5 [==============================] - 0s 10ms/step - loss: 0.3494 - accuracy: 0.8451 - val_loss: 0.3799 - val_accuracy: 0.8889\n",
      "Epoch 83/120\n",
      "5/5 [==============================] - 0s 9ms/step - loss: 0.3719 - accuracy: 0.8662 - val_loss: 0.4307 - val_accuracy: 0.8333\n",
      "Epoch 84/120\n",
      "5/5 [==============================] - 0s 10ms/step - loss: 0.2818 - accuracy: 0.9014 - val_loss: 0.2722 - val_accuracy: 0.9167\n",
      "Epoch 85/120\n",
      "5/5 [==============================] - 0s 10ms/step - loss: 0.2867 - accuracy: 0.9225 - val_loss: 0.2399 - val_accuracy: 0.9444\n",
      "Epoch 86/120\n",
      "5/5 [==============================] - 0s 10ms/step - loss: 0.2934 - accuracy: 0.8732 - val_loss: 0.2034 - val_accuracy: 0.9444\n",
      "Epoch 87/120\n",
      "5/5 [==============================] - 0s 11ms/step - loss: 0.2724 - accuracy: 0.9085 - val_loss: 0.1881 - val_accuracy: 0.9444\n",
      "Epoch 88/120\n",
      "5/5 [==============================] - 0s 10ms/step - loss: 0.3373 - accuracy: 0.8662 - val_loss: 0.3548 - val_accuracy: 0.8889\n",
      "Epoch 89/120\n",
      "5/5 [==============================] - 0s 10ms/step - loss: 0.3684 - accuracy: 0.8873 - val_loss: 0.3808 - val_accuracy: 0.8889\n"
     ]
    },
    {
     "data": {
      "text/plain": [
       "<keras.callbacks.History at 0x282d718fa90>"
      ]
     },
     "execution_count": 18,
     "metadata": {},
     "output_type": "execute_result"
    }
   ],
   "source": [
    "model.fit(\n",
    "    x = x_train, \n",
    "    y = y_train,\n",
    "    validation_data=(x_test,y_test),\n",
    "    epochs=120,\n",
    "    verbose=1,\n",
    "    callbacks=[monitor_val_acc]\n",
    ")"
   ]
  },
  {
   "cell_type": "markdown",
   "metadata": {},
   "source": [
    "# CATATAN"
   ]
  },
  {
   "cell_type": "markdown",
   "metadata": {},
   "source": [
    "# Metrics\n",
    "\n",
    "- Klasifikasi : akurasi,recall,precision\n",
    "- Regresi : mse,mae"
   ]
  },
  {
   "cell_type": "markdown",
   "metadata": {},
   "source": [
    "# Activation - Ouput Layer\n",
    "\n",
    "- Klasifikasi - Binary : Sigmoid\n",
    "- Klasifikasi - Multiclass : Softmax\n",
    "- Regresi : relu,tanh"
   ]
  }
 ],
 "metadata": {
  "kernelspec": {
   "display_name": "Python 3.10.7 64-bit",
   "language": "python",
   "name": "python3"
  },
  "language_info": {
   "codemirror_mode": {
    "name": "ipython",
    "version": 3
   },
   "file_extension": ".py",
   "mimetype": "text/x-python",
   "name": "python",
   "nbconvert_exporter": "python",
   "pygments_lexer": "ipython3",
   "version": "3.10.7"
  },
  "orig_nbformat": 4,
  "vscode": {
   "interpreter": {
    "hash": "95cd850a289b5062fab79612406d21593bee7f5cddc2de882acb468a2c4a019d"
   }
  }
 },
 "nbformat": 4,
 "nbformat_minor": 2
}
