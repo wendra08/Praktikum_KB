{
 "cells": [
  {
   "cell_type": "code",
   "execution_count": 30,
   "metadata": {},
   "outputs": [],
   "source": [
    "import tensorflow as tf\n",
    "import numpy as np\n",
    "import matplotlib.pyplot as plt\n",
    "from sklearn.datasets import load_wine\n",
    "from sklearn.model_selection import train_test_split\n",
    "from sklearn.preprocessing import StandardScaler\n",
    "from tensorflow.keras.utils import to_categorical"
   ]
  },
  {
   "cell_type": "markdown",
   "metadata": {},
   "source": [
    "Proses Load data"
   ]
  },
  {
   "cell_type": "code",
   "execution_count": 31,
   "metadata": {},
   "outputs": [],
   "source": [
    "wine = load_wine(as_frame=True)"
   ]
  },
  {
   "cell_type": "markdown",
   "metadata": {},
   "source": [
    "Melihat isi dari data wine"
   ]
  },
  {
   "cell_type": "code",
   "execution_count": 32,
   "metadata": {},
   "outputs": [],
   "source": [
    "x = wine.data #Feature\n",
    "y = wine.target #Target"
   ]
  },
  {
   "cell_type": "code",
   "execution_count": 33,
   "metadata": {},
   "outputs": [
    {
     "data": {
      "text/html": [
       "<div>\n",
       "<style scoped>\n",
       "    .dataframe tbody tr th:only-of-type {\n",
       "        vertical-align: middle;\n",
       "    }\n",
       "\n",
       "    .dataframe tbody tr th {\n",
       "        vertical-align: top;\n",
       "    }\n",
       "\n",
       "    .dataframe thead th {\n",
       "        text-align: right;\n",
       "    }\n",
       "</style>\n",
       "<table border=\"1\" class=\"dataframe\">\n",
       "  <thead>\n",
       "    <tr style=\"text-align: right;\">\n",
       "      <th></th>\n",
       "      <th>alcohol</th>\n",
       "      <th>malic_acid</th>\n",
       "      <th>ash</th>\n",
       "      <th>alcalinity_of_ash</th>\n",
       "      <th>magnesium</th>\n",
       "      <th>total_phenols</th>\n",
       "      <th>flavanoids</th>\n",
       "      <th>nonflavanoid_phenols</th>\n",
       "      <th>proanthocyanins</th>\n",
       "      <th>color_intensity</th>\n",
       "      <th>hue</th>\n",
       "      <th>od280/od315_of_diluted_wines</th>\n",
       "      <th>proline</th>\n",
       "    </tr>\n",
       "  </thead>\n",
       "  <tbody>\n",
       "    <tr>\n",
       "      <th>0</th>\n",
       "      <td>14.23</td>\n",
       "      <td>1.71</td>\n",
       "      <td>2.43</td>\n",
       "      <td>15.6</td>\n",
       "      <td>127.0</td>\n",
       "      <td>2.80</td>\n",
       "      <td>3.06</td>\n",
       "      <td>0.28</td>\n",
       "      <td>2.29</td>\n",
       "      <td>5.64</td>\n",
       "      <td>1.04</td>\n",
       "      <td>3.92</td>\n",
       "      <td>1065.0</td>\n",
       "    </tr>\n",
       "    <tr>\n",
       "      <th>1</th>\n",
       "      <td>13.20</td>\n",
       "      <td>1.78</td>\n",
       "      <td>2.14</td>\n",
       "      <td>11.2</td>\n",
       "      <td>100.0</td>\n",
       "      <td>2.65</td>\n",
       "      <td>2.76</td>\n",
       "      <td>0.26</td>\n",
       "      <td>1.28</td>\n",
       "      <td>4.38</td>\n",
       "      <td>1.05</td>\n",
       "      <td>3.40</td>\n",
       "      <td>1050.0</td>\n",
       "    </tr>\n",
       "    <tr>\n",
       "      <th>2</th>\n",
       "      <td>13.16</td>\n",
       "      <td>2.36</td>\n",
       "      <td>2.67</td>\n",
       "      <td>18.6</td>\n",
       "      <td>101.0</td>\n",
       "      <td>2.80</td>\n",
       "      <td>3.24</td>\n",
       "      <td>0.30</td>\n",
       "      <td>2.81</td>\n",
       "      <td>5.68</td>\n",
       "      <td>1.03</td>\n",
       "      <td>3.17</td>\n",
       "      <td>1185.0</td>\n",
       "    </tr>\n",
       "    <tr>\n",
       "      <th>3</th>\n",
       "      <td>14.37</td>\n",
       "      <td>1.95</td>\n",
       "      <td>2.50</td>\n",
       "      <td>16.8</td>\n",
       "      <td>113.0</td>\n",
       "      <td>3.85</td>\n",
       "      <td>3.49</td>\n",
       "      <td>0.24</td>\n",
       "      <td>2.18</td>\n",
       "      <td>7.80</td>\n",
       "      <td>0.86</td>\n",
       "      <td>3.45</td>\n",
       "      <td>1480.0</td>\n",
       "    </tr>\n",
       "    <tr>\n",
       "      <th>4</th>\n",
       "      <td>13.24</td>\n",
       "      <td>2.59</td>\n",
       "      <td>2.87</td>\n",
       "      <td>21.0</td>\n",
       "      <td>118.0</td>\n",
       "      <td>2.80</td>\n",
       "      <td>2.69</td>\n",
       "      <td>0.39</td>\n",
       "      <td>1.82</td>\n",
       "      <td>4.32</td>\n",
       "      <td>1.04</td>\n",
       "      <td>2.93</td>\n",
       "      <td>735.0</td>\n",
       "    </tr>\n",
       "  </tbody>\n",
       "</table>\n",
       "</div>"
      ],
      "text/plain": [
       "   alcohol  malic_acid   ash  alcalinity_of_ash  magnesium  total_phenols  \\\n",
       "0    14.23        1.71  2.43               15.6      127.0           2.80   \n",
       "1    13.20        1.78  2.14               11.2      100.0           2.65   \n",
       "2    13.16        2.36  2.67               18.6      101.0           2.80   \n",
       "3    14.37        1.95  2.50               16.8      113.0           3.85   \n",
       "4    13.24        2.59  2.87               21.0      118.0           2.80   \n",
       "\n",
       "   flavanoids  nonflavanoid_phenols  proanthocyanins  color_intensity   hue  \\\n",
       "0        3.06                  0.28             2.29             5.64  1.04   \n",
       "1        2.76                  0.26             1.28             4.38  1.05   \n",
       "2        3.24                  0.30             2.81             5.68  1.03   \n",
       "3        3.49                  0.24             2.18             7.80  0.86   \n",
       "4        2.69                  0.39             1.82             4.32  1.04   \n",
       "\n",
       "   od280/od315_of_diluted_wines  proline  \n",
       "0                          3.92   1065.0  \n",
       "1                          3.40   1050.0  \n",
       "2                          3.17   1185.0  \n",
       "3                          3.45   1480.0  \n",
       "4                          2.93    735.0  "
      ]
     },
     "execution_count": 33,
     "metadata": {},
     "output_type": "execute_result"
    }
   ],
   "source": [
    "x.head()"
   ]
  },
  {
   "cell_type": "code",
   "execution_count": 34,
   "metadata": {},
   "outputs": [
    {
     "data": {
      "text/plain": [
       "0    0\n",
       "1    0\n",
       "2    0\n",
       "3    0\n",
       "4    0\n",
       "Name: target, dtype: int32"
      ]
     },
     "execution_count": 34,
     "metadata": {},
     "output_type": "execute_result"
    }
   ],
   "source": [
    "y.head()"
   ]
  },
  {
   "cell_type": "markdown",
   "metadata": {},
   "source": [
    "Cek Kolom"
   ]
  },
  {
   "cell_type": "code",
   "execution_count": 35,
   "metadata": {},
   "outputs": [
    {
     "name": "stdout",
     "output_type": "stream",
     "text": [
      "<class 'pandas.core.frame.DataFrame'>\n",
      "RangeIndex: 178 entries, 0 to 177\n",
      "Data columns (total 13 columns):\n",
      " #   Column                        Non-Null Count  Dtype  \n",
      "---  ------                        --------------  -----  \n",
      " 0   alcohol                       178 non-null    float64\n",
      " 1   malic_acid                    178 non-null    float64\n",
      " 2   ash                           178 non-null    float64\n",
      " 3   alcalinity_of_ash             178 non-null    float64\n",
      " 4   magnesium                     178 non-null    float64\n",
      " 5   total_phenols                 178 non-null    float64\n",
      " 6   flavanoids                    178 non-null    float64\n",
      " 7   nonflavanoid_phenols          178 non-null    float64\n",
      " 8   proanthocyanins               178 non-null    float64\n",
      " 9   color_intensity               178 non-null    float64\n",
      " 10  hue                           178 non-null    float64\n",
      " 11  od280/od315_of_diluted_wines  178 non-null    float64\n",
      " 12  proline                       178 non-null    float64\n",
      "dtypes: float64(13)\n",
      "memory usage: 18.2 KB\n"
     ]
    }
   ],
   "source": [
    "x.info()"
   ]
  },
  {
   "cell_type": "markdown",
   "metadata": {},
   "source": [
    "Split Data"
   ]
  },
  {
   "cell_type": "code",
   "execution_count": 36,
   "metadata": {},
   "outputs": [],
   "source": [
    "x_train, x_test, y_train, y_test = train_test_split(x, y, test_size=0.2)"
   ]
  },
  {
   "cell_type": "markdown",
   "metadata": {},
   "source": [
    "Untuk melihat dimensi dari train dan test"
   ]
  },
  {
   "cell_type": "code",
   "execution_count": 37,
   "metadata": {},
   "outputs": [
    {
     "name": "stdout",
     "output_type": "stream",
     "text": [
      "panjang x train : 142\n",
      " panjang y train : 142\n",
      " panjang x test : 36\n",
      " panjang y test : 36\n",
      "\n"
     ]
    }
   ],
   "source": [
    "print(f'panjang x train : {len(x_train)}\\n',\n",
    "f'panjang y train : {len(y_train)}\\n',\n",
    "f'panjang x test : {len(x_test)}\\n',\n",
    "f'panjang y test : {len(y_test)}\\n')"
   ]
  },
  {
   "cell_type": "markdown",
   "metadata": {},
   "source": [
    "Data Standarisasi"
   ]
  },
  {
   "cell_type": "code",
   "execution_count": 38,
   "metadata": {},
   "outputs": [],
   "source": [
    "ss = StandardScaler()"
   ]
  },
  {
   "cell_type": "code",
   "execution_count": 39,
   "metadata": {},
   "outputs": [],
   "source": [
    "x_scaled_train = ss.fit_transform(x_train)\n",
    "x_scaled_test = ss.fit_transform(x_test)"
   ]
  },
  {
   "cell_type": "code",
   "execution_count": 40,
   "metadata": {},
   "outputs": [],
   "source": [
    "y_train = to_categorical(y_train, 3)\n",
    "y_test = to_categorical(y_test, 3)"
   ]
  },
  {
   "cell_type": "markdown",
   "metadata": {},
   "source": [
    "Membuat Model"
   ]
  },
  {
   "cell_type": "code",
   "execution_count": 41,
   "metadata": {},
   "outputs": [
    {
     "name": "stdout",
     "output_type": "stream",
     "text": [
      "Model: \"sequential_1\"\n",
      "_________________________________________________________________\n",
      " Layer (type)                Output Shape              Param #   \n",
      "=================================================================\n",
      " dense_3 (Dense)             (None, 50)                700       \n",
      "                                                                 \n",
      " dense_4 (Dense)             (None, 50)                2550      \n",
      "                                                                 \n",
      " dense_5 (Dense)             (None, 3)                 153       \n",
      "                                                                 \n",
      "=================================================================\n",
      "Total params: 3,403\n",
      "Trainable params: 3,403\n",
      "Non-trainable params: 0\n",
      "_________________________________________________________________\n"
     ]
    }
   ],
   "source": [
    "from tensorflow.keras import Sequential\n",
    "from tensorflow.keras.layers import Dense\n",
    "\n",
    "model = Sequential()\n",
    "\n",
    "#Input Layer\n",
    "model.add(Dense(50, activation='relu', input_dim=13))\n",
    "\n",
    "\n",
    "#Hidden Layer\n",
    "model.add(Dense(50, activation='relu'))\n",
    "\n",
    "#Output Layer\n",
    "model.add(Dense(3, activation='softmax')) #output layer harus disamakan dengan jumlah class, semakin banyak jumlah neuron semakin kompleks modelnya jadi bisa overfitting\n",
    "\n",
    "model.summary()"
   ]
  },
  {
   "cell_type": "markdown",
   "metadata": {},
   "source": [
    "Import library"
   ]
  },
  {
   "cell_type": "code",
   "execution_count": 42,
   "metadata": {},
   "outputs": [],
   "source": [
    "from tensorflow.keras.utils import to_categorical\n",
    "from tensorflow.keras.optimizers import Adam\n",
    "from tensorflow.keras.losses import categorical_crossentropy\n"
   ]
  },
  {
   "cell_type": "markdown",
   "metadata": {},
   "source": [
    "Mengoptimasi model"
   ]
  },
  {
   "cell_type": "code",
   "execution_count": 43,
   "metadata": {},
   "outputs": [],
   "source": [
    "model.compile(\n",
    "    optimizer=Adam(),\n",
    "    loss = categorical_crossentropy,\n",
    "    metrics = ['accuracy']\n",
    ")"
   ]
  },
  {
   "cell_type": "code",
   "execution_count": 51,
   "metadata": {},
   "outputs": [],
   "source": [
    "# Import the early stopping callback\n",
    "from tensorflow.keras.callbacks import EarlyStopping\n",
    "\n",
    "# Define a callback to monitor val_accuracy\n",
    "monitor_val_acc = EarlyStopping(monitor='accuracy', #dilihat berdasarkan validasi accuracy atau accuracy saja, tetapi monitor hanya bisa memasukkan 1 saja\n",
    "                                patience=20)#jadi jika di 20 epoch selanjutnya itu tidak berubah maka diberentikan\n"
   ]
  },
  {
   "cell_type": "code",
   "execution_count": 52,
   "metadata": {},
   "outputs": [
    {
     "name": "stdout",
     "output_type": "stream",
     "text": [
      "Epoch 1/120\n",
      "5/5 [==============================] - 0s 39ms/step - loss: 0.2595 - accuracy: 0.8944 - val_loss: 0.2479 - val_accuracy: 0.9167\n",
      "Epoch 2/120\n",
      "5/5 [==============================] - 0s 14ms/step - loss: 0.2026 - accuracy: 0.9155 - val_loss: 0.2876 - val_accuracy: 0.8889\n",
      "Epoch 3/120\n",
      "5/5 [==============================] - 0s 12ms/step - loss: 0.2123 - accuracy: 0.9437 - val_loss: 0.2597 - val_accuracy: 0.8611\n",
      "Epoch 4/120\n",
      "5/5 [==============================] - 0s 13ms/step - loss: 0.2251 - accuracy: 0.8944 - val_loss: 0.2179 - val_accuracy: 0.9167\n",
      "Epoch 5/120\n",
      "5/5 [==============================] - 0s 13ms/step - loss: 0.2011 - accuracy: 0.9225 - val_loss: 0.2671 - val_accuracy: 0.9167\n",
      "Epoch 6/120\n",
      "5/5 [==============================] - 0s 13ms/step - loss: 0.2090 - accuracy: 0.9366 - val_loss: 0.2206 - val_accuracy: 0.8889\n",
      "Epoch 7/120\n",
      "5/5 [==============================] - 0s 15ms/step - loss: 0.1898 - accuracy: 0.9296 - val_loss: 0.2392 - val_accuracy: 0.9167\n",
      "Epoch 8/120\n",
      "5/5 [==============================] - 0s 13ms/step - loss: 0.1654 - accuracy: 0.9437 - val_loss: 0.2065 - val_accuracy: 0.9167\n",
      "Epoch 9/120\n",
      "5/5 [==============================] - 0s 13ms/step - loss: 0.1884 - accuracy: 0.9225 - val_loss: 0.3432 - val_accuracy: 0.8611\n",
      "Epoch 10/120\n",
      "5/5 [==============================] - 0s 12ms/step - loss: 0.2569 - accuracy: 0.9366 - val_loss: 0.2176 - val_accuracy: 0.9167\n",
      "Epoch 11/120\n",
      "5/5 [==============================] - 0s 14ms/step - loss: 0.2122 - accuracy: 0.9014 - val_loss: 0.2680 - val_accuracy: 0.9167\n",
      "Epoch 12/120\n",
      "5/5 [==============================] - 0s 14ms/step - loss: 0.2166 - accuracy: 0.9155 - val_loss: 0.2308 - val_accuracy: 0.9167\n",
      "Epoch 13/120\n",
      "5/5 [==============================] - 0s 14ms/step - loss: 0.1827 - accuracy: 0.9507 - val_loss: 0.1969 - val_accuracy: 0.9167\n",
      "Epoch 14/120\n",
      "5/5 [==============================] - 0s 11ms/step - loss: 0.1577 - accuracy: 0.9437 - val_loss: 0.2740 - val_accuracy: 0.8611\n",
      "Epoch 15/120\n",
      "5/5 [==============================] - 0s 13ms/step - loss: 0.1765 - accuracy: 0.9507 - val_loss: 0.2148 - val_accuracy: 0.9167\n",
      "Epoch 16/120\n",
      "5/5 [==============================] - 0s 14ms/step - loss: 0.1461 - accuracy: 0.9577 - val_loss: 0.2479 - val_accuracy: 0.8889\n",
      "Epoch 17/120\n",
      "5/5 [==============================] - 0s 13ms/step - loss: 0.1889 - accuracy: 0.9507 - val_loss: 0.1980 - val_accuracy: 0.9167\n",
      "Epoch 18/120\n",
      "5/5 [==============================] - 0s 13ms/step - loss: 0.1571 - accuracy: 0.9577 - val_loss: 0.2578 - val_accuracy: 0.8889\n",
      "Epoch 19/120\n",
      "5/5 [==============================] - 0s 11ms/step - loss: 0.1492 - accuracy: 0.9507 - val_loss: 0.2783 - val_accuracy: 0.8889\n",
      "Epoch 20/120\n",
      "5/5 [==============================] - 0s 9ms/step - loss: 0.2257 - accuracy: 0.9085 - val_loss: 0.3809 - val_accuracy: 0.8056\n",
      "Epoch 21/120\n",
      "5/5 [==============================] - 0s 12ms/step - loss: 0.1746 - accuracy: 0.9296 - val_loss: 0.4339 - val_accuracy: 0.8056\n",
      "Epoch 22/120\n",
      "5/5 [==============================] - 0s 9ms/step - loss: 0.2324 - accuracy: 0.9366 - val_loss: 0.5470 - val_accuracy: 0.8056\n",
      "Epoch 23/120\n",
      "5/5 [==============================] - 0s 9ms/step - loss: 0.2507 - accuracy: 0.8803 - val_loss: 0.3377 - val_accuracy: 0.8611\n",
      "Epoch 24/120\n",
      "5/5 [==============================] - 0s 12ms/step - loss: 0.2067 - accuracy: 0.9155 - val_loss: 0.2658 - val_accuracy: 0.8889\n",
      "Epoch 25/120\n",
      "5/5 [==============================] - 0s 12ms/step - loss: 0.1582 - accuracy: 0.9366 - val_loss: 0.1949 - val_accuracy: 0.9167\n",
      "Epoch 26/120\n",
      "5/5 [==============================] - 0s 11ms/step - loss: 0.1498 - accuracy: 0.9577 - val_loss: 0.2639 - val_accuracy: 0.8889\n",
      "Epoch 27/120\n",
      "5/5 [==============================] - 0s 11ms/step - loss: 0.1590 - accuracy: 0.9437 - val_loss: 0.2225 - val_accuracy: 0.9167\n",
      "Epoch 28/120\n",
      "5/5 [==============================] - 0s 10ms/step - loss: 0.1989 - accuracy: 0.9507 - val_loss: 0.1893 - val_accuracy: 0.9444\n",
      "Epoch 29/120\n",
      "5/5 [==============================] - 0s 12ms/step - loss: 0.1665 - accuracy: 0.9437 - val_loss: 0.2526 - val_accuracy: 0.8889\n",
      "Epoch 30/120\n",
      "5/5 [==============================] - 0s 9ms/step - loss: 0.1891 - accuracy: 0.9437 - val_loss: 0.1934 - val_accuracy: 0.9167\n",
      "Epoch 31/120\n",
      "5/5 [==============================] - 0s 10ms/step - loss: 0.1945 - accuracy: 0.9507 - val_loss: 0.3150 - val_accuracy: 0.8889\n",
      "Epoch 32/120\n",
      "5/5 [==============================] - 0s 11ms/step - loss: 0.2264 - accuracy: 0.9014 - val_loss: 0.2207 - val_accuracy: 0.9167\n",
      "Epoch 33/120\n",
      "5/5 [==============================] - 0s 13ms/step - loss: 0.1649 - accuracy: 0.9437 - val_loss: 0.1860 - val_accuracy: 0.9444\n",
      "Epoch 34/120\n",
      "5/5 [==============================] - 0s 11ms/step - loss: 0.1542 - accuracy: 0.9437 - val_loss: 0.2346 - val_accuracy: 0.8889\n",
      "Epoch 35/120\n",
      "5/5 [==============================] - 0s 11ms/step - loss: 0.1637 - accuracy: 0.9507 - val_loss: 0.1901 - val_accuracy: 0.9444\n",
      "Epoch 36/120\n",
      "5/5 [==============================] - 0s 10ms/step - loss: 0.1674 - accuracy: 0.9437 - val_loss: 0.3628 - val_accuracy: 0.8611\n"
     ]
    },
    {
     "data": {
      "text/plain": [
       "<keras.callbacks.History at 0x27fb33653c0>"
      ]
     },
     "execution_count": 52,
     "metadata": {},
     "output_type": "execute_result"
    }
   ],
   "source": [
    "model.fit(\n",
    "    x = x_train, \n",
    "    y = y_train,\n",
    "    validation_data=(x_test,y_test),\n",
    "    epochs=120,\n",
    "    verbose=1,\n",
    "    callbacks=[monitor_val_acc]\n",
    ")"
   ]
  },
  {
   "cell_type": "markdown",
   "metadata": {},
   "source": [
    "# CATATAN"
   ]
  },
  {
   "cell_type": "markdown",
   "metadata": {},
   "source": [
    "# Metrics\n",
    "\n",
    "- Klasifikasi : akurasi,recall,precision\n",
    "- Regresi : mse,mae"
   ]
  },
  {
   "cell_type": "markdown",
   "metadata": {},
   "source": [
    "# Activation - Ouput Layer\n",
    "\n",
    "- Klasifikasi - Binary : Sigmoid\n",
    "- Klasifikasi - Multiclass : Softmax\n",
    "- Regresi : relu,tanh"
   ]
  }
 ],
 "metadata": {
  "kernelspec": {
   "display_name": "Python 3.10.7 64-bit",
   "language": "python",
   "name": "python3"
  },
  "language_info": {
   "codemirror_mode": {
    "name": "ipython",
    "version": 3
   },
   "file_extension": ".py",
   "mimetype": "text/x-python",
   "name": "python",
   "nbconvert_exporter": "python",
   "pygments_lexer": "ipython3",
   "version": "3.10.7"
  },
  "orig_nbformat": 4,
  "vscode": {
   "interpreter": {
    "hash": "95cd850a289b5062fab79612406d21593bee7f5cddc2de882acb468a2c4a019d"
   }
  }
 },
 "nbformat": 4,
 "nbformat_minor": 2
}
